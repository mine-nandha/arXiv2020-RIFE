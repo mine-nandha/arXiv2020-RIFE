{
  "nbformat": 4,
  "nbformat_minor": 0,
  "metadata": {
    "colab": {
      "name": "Untitled0.ipynb",
      "provenance": [],
      
      "collapsed_sections": [
        "CUq1_Dnegrs1",
        "EFOqhHG6hOVH",
        "KgNPvGccgwd8",
        "RDHuIkoi6l9a",
        "NQ0TxfKeghR8",
        "NObEcBWAJoaz",
        "FpJXJiRl6-gK",
        "SNDGdMRn3PA-",
        "2f-THZmDoOaY",
        "MSUasbRUDP3B",
        "9UagRtLPyKoQ",
        "GahMjYf8miNs",
        "7-3O4en4C4IL",
        "VRk2Ye1exWVA",
        "tozwpAhhnm69"
      ],
      "toc_visible": true
    },
    "kernelspec": {
      "name": "python3",
      "display_name": "Python 3"
    },
    "accelerator": "GPU"
  },
  "cells": [
    {
      "cell_type": "markdown",
      "metadata": {
        "id": "view-in-github",
        "colab_type": "text"
      },
      "source": [
        "<a href=\"https://colab.research.google.com/github/mine-nandha/arXiv2020-RIFE/blob/main/Colab_demo.ipynb\" target=\"_parent\"><img src=\"https://colab.research.google.com/assets/colab-badge.svg\" alt=\"Open In Colab\"/></a>"
      ]
    },
    {
      "cell_type": "markdown",
      "metadata": {
        "id": "CUq1_Dnegrs1",
        "colab_type": "text"
      },
      "source": [
        "#__1. Mount Google Drive__\n",
        "\n",
        "\n",
        "\n"
      ]
    },
    {
      "cell_type": "code",
      "metadata": {
        "id": "ojI73noUg1If",
        "colab_type": "code",
        "colab": {},
        "cellView": "form"
      },
      "source": [
        "#@markdown <br><center><img src='https://upload.wikimedia.org/wikipedia/commons/thumb/d/da/Google_Drive_logo.png/600px-Google_Drive_logo.png' height=\"50\" alt=\"Gdrive-logo\"/></center>\n",
        "#@markdown <center><h3>Mount GDrive to /content/drive</h3></center><br>\n",
        "MODE = \"MOUNT\" #@param [\"MOUNT\", \"UNMOUNT\"]\n",
        "#Mount your Gdrive! \n",
        "from google.colab import drive\n",
        "drive.mount._DEBUG = False\n",
        "if MODE == \"MOUNT\":\n",
        "  drive.mount('/content/drive', force_remount=True)\n",
        "elif MODE == \"UNMOUNT\":\n",
        "  try:\n",
        "    drive.flush_and_unmount()\n",
        "  except ValueError:\n",
        "    pass\n",
        "  get_ipython().system_raw(\"rm -rf /root/.config/Google/DriveFS\")"
      ],
      "execution_count": null,
      "outputs": []
    },
    {
      "cell_type": "markdown",
      "metadata": {
        "id": "EFOqhHG6hOVH",
        "colab_type": "text"
      },
      "source": [
        "#__2. Install FFmpeg__"
      ]
    },
    {
      "cell_type": "code",
      "metadata": {
        "id": "hFeE-qPuhTiK",
        "colab_type": "code",
        "cellView": "form",
        "colab": {}
      },
      "source": [
        "#@markdown <br><center><img src='https://raw.githubusercontent.com/cheems/FFmpeg-for-GDrive/master/res/ffmpeg.png' height=\"50\" alt=\"Gdrive-logo\"/></center>\n",
        "#@markdown <center><h3>Upgrade FFmpeg to v4.2.2</h3></center><br>\n",
        "from IPython.display import clear_output\n",
        "import os, urllib.request\n",
        "HOME = os.path.expanduser(\"~\")\n",
        "pathDoneCMD = f'{HOME}/doneCMD.sh'\n",
        "if not os.path.exists(f\"{HOME}/.ipython/ttmg.py\"):\n",
        "    hCode = \"https://raw.githubusercontent.com/cheems/FFmpeg-for-GDrive/master/ttmg.py\"\n",
        "    urllib.request.urlretrieve(hCode, f\"{HOME}/.ipython/ttmg.py\")\n",
        "\n",
        "from ttmg import (\n",
        "    loadingAn,\n",
        "    textAn,\n",
        ")\n",
        "\n",
        "loadingAn(name=\"lds\")\n",
        "textAn(\"Installing Dependencies...\", ty='twg')\n",
        "os.system('pip install git+git://github.com/AWConant/jikanpy.git')\n",
        "os.system('add-apt-repository -y ppa:jonathonf/ffmpeg-4')\n",
        "os.system('apt-get update')\n",
        "os.system('apt install mediainfo')\n",
        "os.system('apt-get install ffmpeg')\n",
        "clear_output()\n",
        "print('Installation finished.')"
      ],
      "execution_count": null,
      "outputs": []
    },
    {
      "cell_type": "markdown",
      "metadata": {
        "id": "KgNPvGccgwd8",
        "colab_type": "text"
      },
      "source": [
        "#__3. Run FFmpeg Scripts__"
      ]
    },
    {
      "cell_type": "markdown",
      "metadata": {
        "id": "RDHuIkoi6l9a",
        "colab_type": "text"
      },
      "source": [
        "###__Display Media File Metadata__"
      ]
    },
    {
      "cell_type": "code",
      "metadata": {
        "id": "Sv8au_RO6WUs",
        "colab_type": "code",
        "cellView": "form",
        "colab": {}
      },
      "source": [
        "import os, sys, re\n",
        "\n",
        "media_file_path = \"\" #@param {type:\"string\"}\n",
        "\n",
        "os.environ['inputFile'] = media_file_path\n",
        "\n",
        "!ffmpeg -i \"$inputFile\" -hide_banner"
      ],
      "execution_count": null,
      "outputs": []
    },
    {
      "cell_type": "markdown",
      "metadata": {
        "id": "NQ0TxfKeghR8",
        "colab_type": "text"
      },
      "source": [
        "#__If input is a Movie(Multiple Trim, Metadata Change, Audio Upmix)__"
      ]
    },
    {
      "cell_type": "markdown",
      "metadata": {
        "id": "NObEcBWAJoaz",
        "colab_type": "text"
      },
      "source": [
        "###__Change Media File Metadata(Already in DTS)__"
      ]
    },
    {
      "cell_type": "code",
      "metadata": {
        "id": "Sv8au_RO6WUs",
        "colab_type": "code",
        "cellView": "form",
        "colab": {}
      },
      "source": [
        "import os, sys, re\n",
        "\n",
        "video_file_path = \"\" #@param {type:\"string\"}\n",
        "Title_va = \"Encoded By DTS Tamil\" #@param {type:\"string\"}\n",
        "SRT = \"/content/mine_nandha.srt\" #@param {type:\"string\"}\n",
        "SRT_DriveID = \"1J98YkrgleYoM2HTjBn6enfNx4Jap9rhE\" #@param {type:\"string\"}\n",
        "name_one = \"\" #@param {type:\"string\"}\n",
        "start_one = \"00:00:00.000\" #@param {type:\"string\"}\n",
        "end_one = \"00:00:00.000\" #@param {type:\"string\"}\n",
        "name_two = \"\" #@param {type:\"string\"}\n",
        "start_two = \"00:00:00.000\" #@param {type:\"string\"}\n",
        "end_two = \"00:00:00.000\" #@param {type:\"string\"}\n",
        "name_three = \"\" #@param {type:\"string\"}\n",
        "start_three = \"00:00:00.000\" #@param {type:\"string\"}\n",
        "end_three = \"00:00:00.000\" #@param {type:\"string\"}\n",
        "name_four = \"\" #@param {type:\"string\"}\n",
        "start_four = \"00:00:00.000\" #@param {type:\"string\"}\n",
        "end_four = \"00:00:00.000\" #@param {type:\"string\"}\n",
        "name_five = \"\" #@param {type:\"string\"}\n",
        "start_five = \"00:00:00.000\" #@param {type:\"string\"}\n",
        "end_five = \"00:00:00.000\" #@param {type:\"string\"}\n",
        "\n",
        "delsplit = re.search(\"\\/(?:.(?!\\/))+$\", video_file_path)\n",
        "testsplit = video_file_path.split(\"/\")\n",
        "filename = re.sub(\"^[\\/]\", \"\", delsplit.group(0))\n",
        "filename_raw = re.sub(\".{4}$\", \"\", filename)\n",
        "file_extension = re.search(\".{3}$\", filename)\n",
        "file_extension_raw = file_extension.group(0)\n",
        "output_file_path = re.search(\"^[\\/].+\\/\", video_file_path)\n",
        "\n",
        "os.environ['inputFile'] = video_file_path\n",
        "os.environ['title'] = Title_va\n",
        "os.environ['startone'] = start_one\n",
        "os.environ['endone'] = end_one\n",
        "os.environ['starttwo'] = start_two\n",
        "os.environ['endtwo'] = end_two\n",
        "os.environ['startthree'] = start_three\n",
        "os.environ['endthree'] = end_three\n",
        "os.environ['startfour'] = start_four\n",
        "os.environ['endfour'] = end_four\n",
        "os.environ['startfive'] = start_five\n",
        "os.environ['endfive'] = end_five\n",
        "os.environ['outputPath'] = output_file_path.group(0)\n",
        "os.environ['fileName'] = filename_raw\n",
        "os.environ['oneName'] = name_one + ' - DTS Tamil'\n",
        "os.environ['twoName'] = name_two + ' - DTS Tamil'\n",
        "os.environ['threeName'] = name_three + ' - DTS Tamil'\n",
        "os.environ['fourName'] = name_four + ' - DTS Tamil'\n",
        "os.environ['fiveName'] = name_five + ' - DTS Tamil'\n",
        "os.environ['fileExtension'] = file_extension_raw\n",
        "os.environ['inputsrt'] = SRT\n",
        "os.environ['srtID'] = SRT_DriveID\n",
        "\n",
        "!gdown --id \"$srtID\"\n",
        "!mkdir \"$outputPath\"\"$fileName\"\n",
        "!ffmpeg -i \"$inputFile\" -i \"$inputsrt\" -metadata title=\"$fileName\" -metadata:s:a:0 title=\"$title\" -metadata:s:v:0 title=\"$title\" -ss \"$startone\" -to \"$endone\" -c copy -map 0:v -map 0:a:0 -map 0:s:0 -map 1 -strict -2 -disposition:s:s:0 none -disposition:s:s:1 default \"$outputPath\"\"$fileName\"/\"$oneName\".\"$fileExtension\"\n",
        "!ffmpeg -i \"$inputFile\" -i \"$inputsrt\" -metadata title=\"$fileName\" -metadata:s:a:0 title=\"$title\" -metadata:s:v:0 title=\"$title\" -ss \"$starttwo\" -to \"$endtwo\" -c copy -map 0:v -map 0:a:0 -map 0:s:0 -map 1 -strict -2 -disposition:s:s:0 none -disposition:s:s:1 default \"$outputPath\"\"$fileName\"/\"$twoName\".\"$fileExtension\"\n",
        "!ffmpeg -i \"$inputFile\" -i \"$inputsrt\" -metadata title=\"$fileName\" -metadata:s:a:0 title=\"$title\" -metadata:s:v:0 title=\"$title\" -ss \"$startthree\" -to \"$endthree\" -c copy -map 0:v -map 0:a:0 -map 0:s:0 -map 1 -strict -2 -disposition:s:s:0 none -disposition:s:s:1 default \"$outputPath\"\"$fileName\"/\"$threeName\".\"$fileExtension\"\n",
        "!ffmpeg -i \"$inputFile\" -i \"$inputsrt\" -metadata title=\"$fileName\" -metadata:s:a:0 title=\"$title\" -metadata:s:v:0 title=\"$title\" -ss \"$startfour\" -to \"$endfour\" -c copy -map 0:v -map 0:a:0 -map 0:s:0 -map 1 -strict -2 -disposition:s:s:0 none -disposition:s:s:1 default \"$outputPath\"\"$fileName\"/\"$fourName\".\"$fileExtension\"\n",
        "!ffmpeg -i \"$inputFile\" -i \"$inputsrt\" -metadata title=\"$fileName\" -metadata:s:a:0 title=\"$title\" -metadata:s:v:0 title=\"$title\" -ss \"$startfive\" -to \"$endfive\" -c copy -map 0:v -map 0:a:0 -map 0:s:0 -map 1 -strict -2 -disposition:s:s:0 none -disposition:s:s:1 default \"$outputPath\"\"$fileName\"/\"$fiveName\".\"$fileExtension\"\n"
      ],
      "execution_count": null,
      "outputs": []
    },
    {
      "cell_type": "markdown",
      "metadata": {
        "id": "FpJXJiRl6-gK",
        "colab_type": "text"
      },
      "source": [
        "###__Change Media File Metadata and 5.1 EAC3, AAC into 5.1 DTS__"
      ]
    },
    {
      "cell_type": "code",
      "metadata": {
        "id": "Sv8au_RO6WUs",
        "colab_type": "code",
        "cellView": "form",
        "colab": {}
      },
      "source": [
        "import os, sys, re\n",
        "\n",
        "video_file_path = \"\" #@param {type:\"string\"}\n",
        "Title_va = \"Encoded By DTS Tamil\" #@param {type:\"string\"}\n",
        "SRT = \"/content/mine_nandha.srt\" #@param {type:\"string\"}\n",
        "SRT_DriveID = \"1J98YkrgleYoM2HTjBn6enfNx4Jap9rhE\" #@param {type:\"string\"}\n",
        "name_one = \"\" #@param {type:\"string\"}\n",
        "start_one = \"00:00:00.000\" #@param {type:\"string\"}\n",
        "end_one = \"00:00:00.000\" #@param {type:\"string\"}\n",
        "name_two = \"\" #@param {type:\"string\"}\n",
        "start_two = \"00:00:00.000\" #@param {type:\"string\"}\n",
        "end_two = \"00:00:00.000\" #@param {type:\"string\"}\n",
        "name_three = \"\" #@param {type:\"string\"}\n",
        "start_three = \"00:00:00.000\" #@param {type:\"string\"}\n",
        "end_three = \"00:00:00.000\" #@param {type:\"string\"}\n",
        "name_four = \"\" #@param {type:\"string\"}\n",
        "start_four = \"00:00:00.000\" #@param {type:\"string\"}\n",
        "end_four = \"00:00:00.000\" #@param {type:\"string\"}\n",
        "name_five = \"\" #@param {type:\"string\"}\n",
        "start_five = \"00:00:00.000\" #@param {type:\"string\"}\n",
        "end_five = \"00:00:00.000\" #@param {type:\"string\"}\n",
        "\n",
        "delsplit = re.search(\"\\/(?:.(?!\\/))+$\", video_file_path)\n",
        "testsplit = video_file_path.split(\"/\")\n",
        "filename = re.sub(\"^[\\/]\", \"\", delsplit.group(0))\n",
        "filename_raw = re.sub(\".{4}$\", \"\", filename)\n",
        "file_extension = re.search(\".{3}$\", filename)\n",
        "file_extension_raw = file_extension.group(0)\n",
        "output_file_path = re.search(\"^[\\/].+\\/\", video_file_path)\n",
        "\n",
        "os.environ['inputFile'] = video_file_path\n",
        "os.environ['title'] = Title_va\n",
        "os.environ['startone'] = start_one\n",
        "os.environ['endone'] = end_one\n",
        "os.environ['starttwo'] = start_two\n",
        "os.environ['endtwo'] = end_two\n",
        "os.environ['startthree'] = start_three\n",
        "os.environ['endthree'] = end_three\n",
        "os.environ['startfour'] = start_four\n",
        "os.environ['endfour'] = end_four\n",
        "os.environ['startfive'] = start_five\n",
        "os.environ['endfive'] = end_five\n",
        "os.environ['outputPath'] = output_file_path.group(0)\n",
        "os.environ['fileName'] = filename_raw\n",
        "os.environ['oneName'] = name_one + ' - DTS Tamil'\n",
        "os.environ['twoName'] = name_two + ' - DTS Tamil'\n",
        "os.environ['threeName'] = name_three + ' - DTS Tamil'\n",
        "os.environ['fourName'] = name_four + ' - DTS Tamil'\n",
        "os.environ['fiveName'] = name_five + ' - DTS Tamil'\n",
        "os.environ['fileExtension'] = file_extension_raw\n",
        "os.environ['inputsrt'] = SRT\n",
        "os.environ['srtID'] = SRT_DriveID\n",
        "\n",
        "!gdown --id \"$srtID\"\n",
        "!mkdir \"$outputPath\"\"$fileName\"\n",
        "!ffmpeg -i \"$inputFile\" -i \"$inputsrt\" -metadata title=\"$fileName\" -metadata:s:a:0 title=\"$title\" -metadata:s:v:0 title=\"$title\" -ss \"$startone\" -to \"$endone\" -c:v copy -c:s copy -strict -2 -c:a dts -b:a 1536k -map 0:v -map 0:a -map 0:s:0 -map 1 -disposition:s:s:0 none -disposition:s:s:1 default \"$outputPath\"\"$fileName\"/\"$oneName\".\"$fileExtension\"\n",
        "!ffmpeg -i \"$inputFile\" -i \"$inputsrt\" -metadata title=\"$fileName\" -metadata:s:a:0 title=\"$title\" -metadata:s:v:0 title=\"$title\" -ss \"$starttwo\" -to \"$endtwo\" -c:v copy -c:s copy -strict -2 -c:a dts -b:a 1536k -map 0:v -map 0:a -map 0:s:0 -map 1 -disposition:s:s:0 none -disposition:s:s:1 default \"$outputPath\"\"$fileName\"/\"$twoName\".\"$fileExtension\"\n",
        "!ffmpeg -i \"$inputFile\" -i \"$inputsrt\" -metadata title=\"$fileName\" -metadata:s:a:0 title=\"$title\" -metadata:s:v:0 title=\"$title\" -ss \"$startthree\" -to \"$endthree\" -c:v copy -c:s copy -strict -2 -c:a dts -b:a 1536k -map 0:v -map 0:a -map 0:s:0 -map 1 -disposition:s:s:0 none -disposition:s:s:1 default \"$outputPath\"\"$fileName\"/\"$threeName\".\"$fileExtension\"\n",
        "!ffmpeg -i \"$inputFile\" -i \"$inputsrt\" -metadata title=\"$fileName\" -metadata:s:a:0 title=\"$title\" -metadata:s:v:0 title=\"$title\" -ss \"$startfour\" -to \"$endfour\" -c:v copy -c:s copy -strict -2 -c:a dts -b:a 1536k -map 0:v -map 0:a -map 0:s:0 -map 1 -disposition:s:s:0 none -disposition:s:s:1 default \"$outputPath\"\"$fileName\"/\"$fourName\".\"$fileExtension\"\n",
        "!ffmpeg -i \"$inputFile\" -i \"$inputsrt\" -metadata title=\"$fileName\" -metadata:s:a:0 title=\"$title\" -metadata:s:v:0 title=\"$title\" -ss \"$startfive\" -to \"$endfive\" -c:v copy -c:s copy -strict -2 -c:a dts -b:a 1536k -map 0:v -map 0:a -map 0:s:0 -map 1 -disposition:s:s:0 none -disposition:s:s:1 default \"$outputPath\"\"$fileName\"/\"$fiveName\".\"$fileExtension\"\n"
      ],
      "execution_count": null,
      "outputs": []
    },
    {
      "cell_type": "markdown",
      "metadata": {
        "id": "SNDGdMRn3PA-",
        "colab_type": "text"
      },
      "source": [
        "###__Change Media File Metadata and 2.1 Audio into DTS__"
      ]
    },
    {
      "cell_type": "code",
      "metadata": {
        "id": "Sv8au_RO6WUs",
        "colab_type": "code",
        "cellView": "form",
        "colab": {}
      },
      "source": [
        "import os, sys, re\n",
        "\n",
        "video_file_path = \"\" #@param {type:\"string\"}\n",
        "Title_va = \"Encoded By DTS Tamil\" #@param {type:\"string\"}\n",
        "SRT = \"/content/mine_nandha.srt\" #@param {type:\"string\"}\n",
        "SRT_DriveID = \"1J98YkrgleYoM2HTjBn6enfNx4Jap9rhE\" #@param {type:\"string\"}\n",
        "name_one = \"\" #@param {type:\"string\"}\n",
        "start_one = \"00:00:00.000\" #@param {type:\"string\"}\n",
        "end_one = \"00:00:00.000\" #@param {type:\"string\"}\n",
        "name_two = \"\" #@param {type:\"string\"}\n",
        "start_two = \"00:00:00.000\" #@param {type:\"string\"}\n",
        "end_two = \"00:00:00.000\" #@param {type:\"string\"}\n",
        "name_three = \"\" #@param {type:\"string\"}\n",
        "start_three = \"00:00:00.000\" #@param {type:\"string\"}\n",
        "end_three = \"00:00:00.000\" #@param {type:\"string\"}\n",
        "name_four = \"\" #@param {type:\"string\"}\n",
        "start_four = \"00:00:00.000\" #@param {type:\"string\"}\n",
        "end_four = \"00:00:00.000\" #@param {type:\"string\"}\n",
        "name_five = \"\" #@param {type:\"string\"}\n",
        "start_five = \"00:00:00.000\" #@param {type:\"string\"}\n",
        "end_five = \"00:00:00.000\" #@param {type:\"string\"}\n",
        "\n",
        "delsplit = re.search(\"\\/(?:.(?!\\/))+$\", video_file_path)\n",
        "testsplit = video_file_path.split(\"/\")\n",
        "filename = re.sub(\"^[\\/]\", \"\", delsplit.group(0))\n",
        "filename_raw = re.sub(\".{4}$\", \"\", filename)\n",
        "file_extension = re.search(\".{3}$\", filename)\n",
        "file_extension_raw = file_extension.group(0)\n",
        "output_file_path = re.search(\"^[\\/].+\\/\", video_file_path)\n",
        "\n",
        "os.environ['inputFile'] = video_file_path\n",
        "os.environ['title'] = Title_va\n",
        "os.environ['startone'] = start_one\n",
        "os.environ['endone'] = end_one\n",
        "os.environ['starttwo'] = start_two\n",
        "os.environ['endtwo'] = end_two\n",
        "os.environ['startthree'] = start_three\n",
        "os.environ['endthree'] = end_three\n",
        "os.environ['startfour'] = start_four\n",
        "os.environ['endfour'] = end_four\n",
        "os.environ['startfive'] = start_five\n",
        "os.environ['endfive'] = end_five\n",
        "os.environ['outputPath'] = output_file_path.group(0)\n",
        "os.environ['fileName'] = filename_raw\n",
        "os.environ['oneName'] = name_one + ' - DTS Tamil'\n",
        "os.environ['twoName'] = name_two + ' - DTS Tamil'\n",
        "os.environ['threeName'] = name_three + ' - DTS Tamil'\n",
        "os.environ['fourName'] = name_four + ' - DTS Tamil'\n",
        "os.environ['fiveName'] = name_five + ' - DTS Tamil'\n",
        "os.environ['fileExtension'] = file_extension_raw\n",
        "os.environ['inputsrt'] = SRT\n",
        "os.environ['srtID'] = SRT_DriveID\n",
        "\n",
        "!gdown --id \"$srtID\"\n",
        "!mkdir \"$outputPath\"\"$fileName\"\n",
        "!ffmpeg -i \"$inputFile\" -i \"$inputsrt\" -metadata title=\"$fileName\" -metadata:s:a:0 title=\"$title\" -metadata:s:v:0 title=\"$title\" -filter_complex \"[0:a]pan=5.1(side)|FL=FL|FR=FR|LFE<FL+FR|SL=FL|SR=FR[a]\" -map 0 -map -0:a -map \"[a]\" -ss \"$startone\" -to \"$endone\" -c:v copy -c:s copy -strict -2 -c:a dts -b:a 1536k -map 0:v -map 0:a -map 0:s:0 -map 1 -disposition:s:s:0 none -disposition:s:s:1 default \"$outputPath\"\"$fileName\"/\"$oneName\".\"$fileExtension\"\n",
        "!ffmpeg -i \"$inputFile\" -i \"$inputsrt\" -metadata title=\"$fileName\" -metadata:s:a:0 title=\"$title\" -metadata:s:v:0 title=\"$title\" -filter_complex \"[0:a]pan=5.1(side)|FL=FL|FR=FR|LFE<FL+FR|SL=FL|SR=FR[a]\" -map 0 -map -0:a -map \"[a]\" -ss \"$starttwo\" -to \"$endtwo\" -c:v copy -c:s copy -strict -2 -c:a dts -b:a 1536k -map 0:v -map 0:a -map 0:s:0 -map 1 -disposition:s:s:0 none -disposition:s:s:1 default \"$outputPath\"\"$fileName\"/\"$twoName\".\"$fileExtension\"\n",
        "!ffmpeg -i \"$inputFile\" -i \"$inputsrt\" -metadata title=\"$fileName\" -metadata:s:a:0 title=\"$title\" -metadata:s:v:0 title=\"$title\" -filter_complex \"[0:a]pan=5.1(side)|FL=FL|FR=FR|LFE<FL+FR|SL=FL|SR=FR[a]\" -map 0 -map -0:a -map \"[a]\" -ss \"$startthree\" -to \"$endthree\" -c:v copy -c:s copy -strict -2 -c:a dts -b:a 1536k -map 0:v -map 0:a -map 0:s:0 -map 1 -disposition:s:s:0 none -disposition:s:s:1 default \"$outputPath\"\"$fileName\"/\"$threeName\".\"$fileExtension\"\n",
        "!ffmpeg -i \"$inputFile\" -i \"$inputsrt\" -metadata title=\"$fileName\" -metadata:s:a:0 title=\"$title\" -metadata:s:v:0 title=\"$title\" -filter_complex \"[0:a]pan=5.1(side)|FL=FL|FR=FR|LFE<FL+FR|SL=FL|SR=FR[a]\" -map 0 -map -0:a -map \"[a]\" -ss \"$startfour\" -to \"$endfour\" -c:v copy -c:s copy -strict -2 -c:a dts -b:a 1536k -map 0:v -map 0:a -map 0:s:0 -map 1 -disposition:s:s:0 none -disposition:s:s:1 default \"$outputPath\"\"$fileName\"/\"$fourName\".\"$fileExtension\"\n",
        "!ffmpeg -i \"$inputFile\" -i \"$inputsrt\" -metadata title=\"$fileName\" -metadata:s:a:0 title=\"$title\" -metadata:s:v:0 title=\"$title\" -filter_complex \"[0:a]pan=5.1(side)|FL=FL|FR=FR|LFE<FL+FR|SL=FL|SR=FR[a]\" -map 0 -map -0:a -map \"[a]\" -ss \"$startfive\" -to \"$endfive\" -c:v copy -c:s copy -strict -2 -c:a dts -b:a 1536k -map 0:v -map 0:a -map 0:s:0 -map 1 -disposition:s:s:0 none -disposition:s:s:1 default \"$outputPath\"\"$fileName\"/\"$fiveName\".\"$fileExtension\"\n"
      ],
      "execution_count": null,
      "outputs": []
    },
        {
      "cell_type": "markdown",
      "metadata": {
        "id": "2f-THZmDoOaY",
        "colab_type": "text"
      },
      "source": [
        "#__Batch Process : If input is a Song(Metadata Change, Audio Upmix)__"
      ]
    },
    {
      "cell_type": "markdown",
      "metadata": {
        "id": "MSUasbRUDP3B",
        "colab_type": "text"
      },
      "source": [
        "###__Change Media File Metadata(Already in DTS)__"
      ]
    },
    {
      "cell_type": "code",
      "metadata": {
        "id": "Sv8au_RO6WUs",
        "colab_type": "code",
        "cellView": "form",
        "colab": {}
      },
      "source": [
        "import os, sys, re\n",
        "\n",
        "video_file_path = \"\" #@param {type:\"string\"}\n",
        "Audio_Stream = \"0\" #@param {type:\"string\"}\n",
        "Title_va = \"Encoded By DTS Tamil\" #@param {type:\"string\"}\n",
        "SRT = \"/content/mine_nandha.srt\" #@param {type:\"string\"}\n",
        "SRT_DriveID = \"1J98YkrgleYoM2HTjBn6enfNx4Jap9rhE\" #@param {type:\"string\"}\n",
        "Encoder = \"Mine Nandha\" #@param {type:\"string\"}\n",
        "\n",
        "delsplit = re.search(\"\\/(?:.(?!\\/))+$\", video_file_path)\n",
        "testsplit = video_file_path.split(\"/\")\n",
        "filename = re.sub(\"^[\\/]\", \"\", delsplit.group(0))\n",
        "filename_raw = re.sub(\".{4}$\", \"\", filename)\n",
        "file_extension = re.search(\".{3}$\", filename)\n",
        "file_extension_raw = file_extension.group(0)\n",
        "output_file_path = re.search(\"^[\\/].+\\/\", video_file_path)\n",
        "\n",
        "os.environ['inputFile'] = video_file_path\n",
        "os.environ['title'] = Title_va\n",
        "os.environ['AS'] = Audio_Stream\n",
        "os.environ['enc'] = Encoder\n",
        "os.environ['outputPath'] = output_file_path.group(0) + '/' + Encoder \n",
        "os.environ['fileName'] = filename_raw + ' - DTS Tamil'\n",
        "os.environ['fileExtension'] = file_extension_raw\n",
        "os.environ['inputsrt'] = SRT\n",
        "os.environ['srtID'] = SRT_DriveID\n",
        "\n",
        "!gdown --id \"$srtID\"\n",
        "!mkdir \"$outputPath\"\n",
        "\n",
        "my_suffixes = (\".mp4\", \".mov\", \".mkv\", \".avi\", \".ts\", \".flv\", \".webm\", \".wmv\", \".mpg\", \".m4v\", \".f4v\")\n",
        "\n",
        "from pathlib import Path\n",
        "Path(outputPath).mkdir(parents=True, exist_ok=True)\n",
        "\n",
        "for filename in os.listdir(video_file_path):\n",
        "   if (filename.endswith(my_suffixes)):\n",
        "       cmd = !ffmpeg -i \"$inputFile/{filename}\" -i \"$inputsrt\" -map_metadata -1 -metadata title=\"$fileName\" -metadata:s:a:0 title=\"$title\" -metadata:s:v:0 title=\"$title\" -metadata:s:v:0 encoder=\"$enc\" -c copy -map 0:v -map 0:a:\"$AS\" -map 0:s:0 -map 1 -strict -2 -disposition:s:s:0 none -disposition:s:s:1 default \"$outputPath/{filename}\"\n"
      ],
      "execution_count": null,
      "outputs": []
    },
    {
      "cell_type": "markdown",
      "metadata": {
        "id": "9UagRtLPyKoQ",
        "colab_type": "text"
      },
      "source": [
        "###__Change Media File Metadata and 5.1 EAC3, AAC into 5.1 DTS__"
      ]
    },
    {
      "cell_type": "code",
      "metadata": {
        "id": "Sv8au_RO6WUs",
        "colab_type": "code",
        "cellView": "form",
        "colab": {}
      },
      "source": [
        "import os, sys, re\n",
        "\n",
        "video_file_path = \"\" #@param {type:\"string\"}\n",
        "Title_va = \"Encoded By DTS Tamil\" #@param {type:\"string\"}\n",
        "SRT = \"/content/mine_nandha.srt\" #@param {type:\"string\"}\n",
        "SRT_DriveID = \"1J98YkrgleYoM2HTjBn6enfNx4Jap9rhE\" #@param {type:\"string\"}\n",
        "name_one = \"\" #@param {type:\"string\"}\n",
        "start_one = \"00:00:00.000\" #@param {type:\"string\"}\n",
        "end_one = \"00:00:00.000\" #@param {type:\"string\"}\n",
        "name_two = \"\" #@param {type:\"string\"}\n",
        "start_two = \"00:00:00.000\" #@param {type:\"string\"}\n",
        "end_two = \"00:00:00.000\" #@param {type:\"string\"}\n",
        "name_three = \"\" #@param {type:\"string\"}\n",
        "start_three = \"00:00:00.000\" #@param {type:\"string\"}\n",
        "end_three = \"00:00:00.000\" #@param {type:\"string\"}\n",
        "name_four = \"\" #@param {type:\"string\"}\n",
        "start_four = \"00:00:00.000\" #@param {type:\"string\"}\n",
        "end_four = \"00:00:00.000\" #@param {type:\"string\"}\n",
        "name_five = \"\" #@param {type:\"string\"}\n",
        "start_five = \"00:00:00.000\" #@param {type:\"string\"}\n",
        "end_five = \"00:00:00.000\" #@param {type:\"string\"}\n",
        "\n",
        "delsplit = re.search(\"\\/(?:.(?!\\/))+$\", video_file_path)\n",
        "testsplit = video_file_path.split(\"/\")\n",
        "filename = re.sub(\"^[\\/]\", \"\", delsplit.group(0))\n",
        "filename_raw = re.sub(\".{4}$\", \"\", filename)\n",
        "file_extension = re.search(\".{3}$\", filename)\n",
        "file_extension_raw = file_extension.group(0)\n",
        "output_file_path = re.search(\"^[\\/].+\\/\", video_file_path)\n",
        "\n",
        "os.environ['inputFile'] = video_file_path\n",
        "os.environ['title'] = Title_va\n",
        "os.environ['startone'] = start_one\n",
        "os.environ['endone'] = end_one\n",
        "os.environ['starttwo'] = start_two\n",
        "os.environ['endtwo'] = end_two\n",
        "os.environ['startthree'] = start_three\n",
        "os.environ['endthree'] = end_three\n",
        "os.environ['startfour'] = start_four\n",
        "os.environ['endfour'] = end_four\n",
        "os.environ['startfive'] = start_five\n",
        "os.environ['endfive'] = end_five\n",
        "os.environ['outputPath'] = output_file_path.group(0)\n",
        "os.environ['fileName'] = filename_raw\n",
        "os.environ['oneName'] = name_one + ' - DTS Tamil'\n",
        "os.environ['twoName'] = name_two + ' - DTS Tamil'\n",
        "os.environ['threeName'] = name_three + ' - DTS Tamil'\n",
        "os.environ['fourName'] = name_four + ' - DTS Tamil'\n",
        "os.environ['fiveName'] = name_five + ' - DTS Tamil'\n",
        "os.environ['fileExtension'] = file_extension_raw\n",
        "os.environ['inputsrt'] = SRT\n",
        "os.environ['srtID'] = SRT_DriveID\n",
        "\n",
        "!gdown --id \"$srtID\"\n",
        "!mkdir \"$outputPath\"\"$fileName\"\n",
        "!ffmpeg -i \"$inputFile\" -i \"$inputsrt\" -metadata title=\"$fileName\" -metadata:s:a:0 title=\"$title\" -metadata:s:v:0 title=\"$title\" -ss \"$startone\" -to \"$endone\" -c:v copy -c:s copy -strict -2 -c:a dts -b:a 1536k -map 0:v -map 0:a -map 0:s:0 -map 1 -disposition:s:s:0 none -disposition:s:s:1 default \"$outputPath\"\"$fileName\"/\"$oneName\".\"$fileExtension\"\n",
        "!ffmpeg -i \"$inputFile\" -i \"$inputsrt\" -metadata title=\"$fileName\" -metadata:s:a:0 title=\"$title\" -metadata:s:v:0 title=\"$title\" -ss \"$starttwo\" -to \"$endtwo\" -c:v copy -c:s copy -strict -2 -c:a dts -b:a 1536k -map 0:v -map 0:a -map 0:s:0 -map 1 -disposition:s:s:0 none -disposition:s:s:1 default \"$outputPath\"\"$fileName\"/\"$twoName\".\"$fileExtension\"\n",
        "!ffmpeg -i \"$inputFile\" -i \"$inputsrt\" -metadata title=\"$fileName\" -metadata:s:a:0 title=\"$title\" -metadata:s:v:0 title=\"$title\" -ss \"$startthree\" -to \"$endthree\" -c:v copy -c:s copy -strict -2 -c:a dts -b:a 1536k -map 0:v -map 0:a -map 0:s:0 -map 1 -disposition:s:s:0 none -disposition:s:s:1 default \"$outputPath\"\"$fileName\"/\"$threeName\".\"$fileExtension\"\n",
        "!ffmpeg -i \"$inputFile\" -i \"$inputsrt\" -metadata title=\"$fileName\" -metadata:s:a:0 title=\"$title\" -metadata:s:v:0 title=\"$title\" -ss \"$startfour\" -to \"$endfour\" -c:v copy -c:s copy -strict -2 -c:a dts -b:a 1536k -map 0:v -map 0:a -map 0:s:0 -map 1 -disposition:s:s:0 none -disposition:s:s:1 default \"$outputPath\"\"$fileName\"/\"$fourName\".\"$fileExtension\"\n",
        "!ffmpeg -i \"$inputFile\" -i \"$inputsrt\" -metadata title=\"$fileName\" -metadata:s:a:0 title=\"$title\" -metadata:s:v:0 title=\"$title\" -ss \"$startfive\" -to \"$endfive\" -c:v copy -c:s copy -strict -2 -c:a dts -b:a 1536k -map 0:v -map 0:a -map 0:s:0 -map 1 -disposition:s:s:0 none -disposition:s:s:1 default \"$outputPath\"\"$fileName\"/\"$fiveName\".\"$fileExtension\"\n"
      ],
      "execution_count": null,
      "outputs": []
    },
    {
      "cell_type": "markdown",
      "metadata": {
        "id": "GahMjYf8miNs",
        "colab_type": "text"
      },
      "source": [
        "###__Change Media File Metadata and 2.1 Audio into DTS__"
      ]
    },
    {
      "cell_type": "code",
      "metadata": {
        "id": "Sv8au_RO6WUs",
        "colab_type": "code",
        "cellView": "form",
        "colab": {}
      },
      "source": [
        "import os, sys, re\n",
        "\n",
        "video_file_path = \"\" #@param {type:\"string\"}\n",
        "Title_va = \"Encoded By DTS Tamil\" #@param {type:\"string\"}\n",
        "SRT = \"/content/mine_nandha.srt\" #@param {type:\"string\"}\n",
        "SRT_DriveID = \"1J98YkrgleYoM2HTjBn6enfNx4Jap9rhE\" #@param {type:\"string\"}\n",
        "name_one = \"\" #@param {type:\"string\"}\n",
        "start_one = \"00:00:00.000\" #@param {type:\"string\"}\n",
        "end_one = \"00:00:00.000\" #@param {type:\"string\"}\n",
        "name_two = \"\" #@param {type:\"string\"}\n",
        "start_two = \"00:00:00.000\" #@param {type:\"string\"}\n",
        "end_two = \"00:00:00.000\" #@param {type:\"string\"}\n",
        "name_three = \"\" #@param {type:\"string\"}\n",
        "start_three = \"00:00:00.000\" #@param {type:\"string\"}\n",
        "end_three = \"00:00:00.000\" #@param {type:\"string\"}\n",
        "name_four = \"\" #@param {type:\"string\"}\n",
        "start_four = \"00:00:00.000\" #@param {type:\"string\"}\n",
        "end_four = \"00:00:00.000\" #@param {type:\"string\"}\n",
        "name_five = \"\" #@param {type:\"string\"}\n",
        "start_five = \"00:00:00.000\" #@param {type:\"string\"}\n",
        "end_five = \"00:00:00.000\" #@param {type:\"string\"}\n",
        "\n",
        "delsplit = re.search(\"\\/(?:.(?!\\/))+$\", video_file_path)\n",
        "testsplit = video_file_path.split(\"/\")\n",
        "filename = re.sub(\"^[\\/]\", \"\", delsplit.group(0))\n",
        "filename_raw = re.sub(\".{4}$\", \"\", filename)\n",
        "file_extension = re.search(\".{3}$\", filename)\n",
        "file_extension_raw = file_extension.group(0)\n",
        "output_file_path = re.search(\"^[\\/].+\\/\", video_file_path)\n",
        "\n",
        "os.environ['inputFile'] = video_file_path\n",
        "os.environ['title'] = Title_va\n",
        "os.environ['startone'] = start_one\n",
        "os.environ['endone'] = end_one\n",
        "os.environ['starttwo'] = start_two\n",
        "os.environ['endtwo'] = end_two\n",
        "os.environ['startthree'] = start_three\n",
        "os.environ['endthree'] = end_three\n",
        "os.environ['startfour'] = start_four\n",
        "os.environ['endfour'] = end_four\n",
        "os.environ['startfive'] = start_five\n",
        "os.environ['endfive'] = end_five\n",
        "os.environ['outputPath'] = output_file_path.group(0)\n",
        "os.environ['fileName'] = filename_raw\n",
        "os.environ['oneName'] = name_one + ' - DTS Tamil'\n",
        "os.environ['twoName'] = name_two + ' - DTS Tamil'\n",
        "os.environ['threeName'] = name_three + ' - DTS Tamil'\n",
        "os.environ['fourName'] = name_four + ' - DTS Tamil'\n",
        "os.environ['fiveName'] = name_five + ' - DTS Tamil'\n",
        "os.environ['fileExtension'] = file_extension_raw\n",
        "os.environ['inputsrt'] = SRT\n",
        "os.environ['srtID'] = SRT_DriveID\n",
        "\n",
        "!gdown --id \"$srtID\"\n",
        "!mkdir \"$outputPath\"\"$fileName\"\n",
        "!ffmpeg -i \"$inputFile\" -i \"$inputsrt\" -metadata title=\"$fileName\" -metadata:s:a:0 title=\"$title\" -metadata:s:v:0 title=\"$title\" -filter_complex \"[0:a]pan=5.1(side)|FL=FL|FR=FR|LFE<FL+FR|SL=FL|SR=FR[a]\" -map 0 -map -0:a -map \"[a]\" -ss \"$startone\" -to \"$endone\" -c:v copy -c:s copy -strict -2 -c:a dts -b:a 1536k -map 0:v -map 0:a -map 0:s:0 -map 1 -disposition:s:s:0 none -disposition:s:s:1 default \"$outputPath\"\"$fileName\"/\"$oneName\".\"$fileExtension\"\n",
        "!ffmpeg -i \"$inputFile\" -i \"$inputsrt\" -metadata title=\"$fileName\" -metadata:s:a:0 title=\"$title\" -metadata:s:v:0 title=\"$title\" -filter_complex \"[0:a]pan=5.1(side)|FL=FL|FR=FR|LFE<FL+FR|SL=FL|SR=FR[a]\" -map 0 -map -0:a -map \"[a]\" -ss \"$starttwo\" -to \"$endtwo\" -c:v copy -c:s copy -strict -2 -c:a dts -b:a 1536k -map 0:v -map 0:a -map 0:s:0 -map 1 -disposition:s:s:0 none -disposition:s:s:1 default \"$outputPath\"\"$fileName\"/\"$twoName\".\"$fileExtension\"\n",
        "!ffmpeg -i \"$inputFile\" -i \"$inputsrt\" -metadata title=\"$fileName\" -metadata:s:a:0 title=\"$title\" -metadata:s:v:0 title=\"$title\" -filter_complex \"[0:a]pan=5.1(side)|FL=FL|FR=FR|LFE<FL+FR|SL=FL|SR=FR[a]\" -map 0 -map -0:a -map \"[a]\" -ss \"$startthree\" -to \"$endthree\" -c:v copy -c:s copy -strict -2 -c:a dts -b:a 1536k -map 0:v -map 0:a -map 0:s:0 -map 1 -disposition:s:s:0 none -disposition:s:s:1 default \"$outputPath\"\"$fileName\"/\"$threeName\".\"$fileExtension\"\n",
        "!ffmpeg -i \"$inputFile\" -i \"$inputsrt\" -metadata title=\"$fileName\" -metadata:s:a:0 title=\"$title\" -metadata:s:v:0 title=\"$title\" -filter_complex \"[0:a]pan=5.1(side)|FL=FL|FR=FR|LFE<FL+FR|SL=FL|SR=FR[a]\" -map 0 -map -0:a -map \"[a]\" -ss \"$startfour\" -to \"$endfour\" -c:v copy -c:s copy -strict -2 -c:a dts -b:a 1536k -map 0:v -map 0:a -map 0:s:0 -map 1 -disposition:s:s:0 none -disposition:s:s:1 default \"$outputPath\"\"$fileName\"/\"$fourName\".\"$fileExtension\"\n",
        "!ffmpeg -i \"$inputFile\" -i \"$inputsrt\" -metadata title=\"$fileName\" -metadata:s:a:0 title=\"$title\" -metadata:s:v:0 title=\"$title\" -filter_complex \"[0:a]pan=5.1(side)|FL=FL|FR=FR|LFE<FL+FR|SL=FL|SR=FR[a]\" -map 0 -map -0:a -map \"[a]\" -ss \"$startfive\" -to \"$endfive\" -c:v copy -c:s copy -strict -2 -c:a dts -b:a 1536k -map 0:v -map 0:a -map 0:s:0 -map 1 -disposition:s:s:0 none -disposition:s:s:1 default \"$outputPath\"\"$fileName\"/\"$fiveName\".\"$fileExtension\"\n"
      ],
      "execution_count": null,
      "outputs": []
    },
    {
      "cell_type": "markdown",
      "metadata": {
        "id": "7-3O4en4C4IL",
        "colab_type": "text"
      },
      "source": [
        "###__Cropdetect And VolumeDetect__"
      ]
    },
    {
      "cell_type": "code",
      "metadata": {
        "id": "Sv8au_RO6WUs",
        "colab_type": "code",
        "cellView": "form",
        "colab": {}
      },
      "source": [
        "import os, sys, re\n",
        "\n",
        "media_file_path = \"\" #@param {type:\"string\"}\n",
        "\n",
        "os.environ['inputFile'] = media_file_path\n",
        "\n",
        "!ffmpeg -i \"$inputFile\" -to 00:00:01.000 -vf cropdetect=40:16:0 -f null /dev/null",
        "!ffmpeg -i \"$inputFile\" -af volumedetect -f null /dev/null"
      ],
      "execution_count": null,
      "outputs": []
    },
    {
      "cell_type": "markdown",
      "metadata": {
        "id": "MSUasbRUDP3",
        "colab_type": "text"
      },
      "source": [
        "###__Increasing Volume__"
      ]
    },
    {
      "cell_type": "code",
      "metadata": {
        "id": "nd2LvSRZCxRe",
        "colab_type": "code",
        "cellView": "form",
        "colab": {}
      },
      "source": [
        "import os, sys, re\n",
        "\n",
        "video_file_path = '' #@param {type:\"string\"}\n",
        "dB = '18dB' #@param {type:\"string\"}\n",
        "\n",
        "delsplit = re.search(\"\\/(?:.(?!\\/))+$\", video_file_path)\n",
        "testsplit = video_file_path.split(\"/\")\n",
        "filename = re.sub(\"^[\\/]\", \"\", delsplit.group(0))\n",
        "filename_raw = re.sub(\".{4}$\", \"\", filename)\n",
        "output_file_path = re.search(\"^[\\/].+\\/\", video_file_path)\n",
        "\n",
        "os.environ['inputFile'] = video_file_path\n",
        "os.environ['Volume'] = dB\n",
        "os.environ['outputPath'] = output_file_path.group(0)\n",
        "os.environ['fileName'] = filename_raw + 'Sound'\n",
        "\n",
        "!ffmpeg -hide_banner -i \"$inputFile\" -map_metadata -1 -c:v copy -af volume=\"$Volume\" \"$outputPath\"/\"$fileName\".mp4"
      ],
      "execution_count": null,
      "outputs": []
    },
    {
      "cell_type": "code",
      "metadata": {
        "colab_type": "code",
        "cellView": "form",
        "id": "CEHi5EMm9lXG",
        "colab": {}
      },
      "source": [
        "import os, sys, re, math\n",
        "\n",
        "video_file_path = \"\" #@param {type:\"string\"}\n",
        "out_height = \"864\" #@param {type:\"string\"}\n",
        "crf = \"20\" #@param {type:\"string\"}\n",
        "start_time = \"00:00:00.000\" #@param {type:\"string\"}\n",
        "end_time = \"00:01:00.000\" #@param {type:\"string\"}\n",
        "\n",
        "output_file_path = re.search(\"^[\\/].+\\/\", video_file_path)\n",
        "output_file_path_raw = output_file_path.group(0)\n",
        "delsplit = re.search(\"\\/(?:.(?!\\/))+$\", video_file_path)\n",
        "filename = re.sub(\"^[\\/]\", \"\", delsplit.group(0))\n",
        "filename_raw = re.sub(\".{4}$\", \"\", filename)\n",
        "hcon = math.ceil(float(out_height) * 2.22222222)\n",
        "\n",
        "os.environ['inputFile'] = video_file_path\n",
        "os.environ['outputPath'] = output_file_path_raw\n",
        "os.environ['startTime'] = start_time\n",
        "os.environ['endTime'] = end_time\n",
        "os.environ['CRF'] = crf\n",
        "os.environ['outWidth'] = str(hcon)\n",
        "os.environ['outHeight'] = out_height\n",
        "os.environ['fileName'] = filename_raw\n",
        "\n",
        "!ffmpeg -hide_banner -i \"$inputFile\" -map_metadata -1 -ss \"$startTime\" -to \"$endTime\" -vf \"crop=$outWidth:$outHeight\",transpose=1 -c:v libx264 -crf \"$CRF\" -ar 44100 -ac 2 -b:a 160k \"$outputPath\"/\"$fileName\"-CROP.mp4"
      ],
      "execution_count": null,
      "outputs": []
    },
    {
      "cell_type": "code",
      "metadata": {
        "colab_type": "code",
        "cellView": "form",
        "id": "CEHi5EMm9lXG",
        "colab": {}
      },
      "source": [
        "import os, sys, re, math\n",
        "\n",
        "video_file_path = \"\" #@param {type:\"string\"}\n",
        "out_height = \"864\" #@param {type:\"string\"}\n",
        "bitrate = \"4000k\" #@param {type:\"string\"}\n",
        "start_time = \"00:00:00.000\" #@param {type:\"string\"}\n",
        "end_time = \"00:01:00.000\" #@param {type:\"string\"}\n",
        "\n",
        "output_file_path = re.search(\"^[\\/].+\\/\", video_file_path)\n",
        "output_file_path_raw = output_file_path.group(0)\n",
        "delsplit = re.search(\"\\/(?:.(?!\\/))+$\", video_file_path)\n",
        "filename = re.sub(\"^[\\/]\", \"\", delsplit.group(0))\n",
        "filename_raw = re.sub(\".{4}$\", \"\", filename)\n",
        "hcon = math.ceil(float(out_height) * 2.22222222)\n",
        "\n",
        "os.environ['inputFile'] = video_file_path\n",
        "os.environ['outputPath'] = output_file_path_raw\n",
        "os.environ['startTime'] = start_time\n",
        "os.environ['endTime'] = end_time\n",
        "os.environ['Kbps'] = bitrate\n",
        "os.environ['outWidth'] = str(hcon)\n",
        "os.environ['outHeight'] = out_height\n",
        "os.environ['fileName'] = filename_raw\n",
        "\n",
        "!ffmpeg -hide_banner -i \"$inputFile\" -map_metadata -1 -ss \"$startTime\" -to \"$endTime\" -vf \"crop=$outWidth:$outHeight\",transpose=1 -b:v \"$Kbps\" -ar 44100 -ac 2 -b:a 160k \"$outputPath\"/\"$fileName\"-CROP.mp4"
      ],
      "execution_count": null,
      "outputs": []
    },
    {
      "cell_type": "code",
      "metadata": {
        "id": "FypCcZkNNt2p"
      },
      "source": [
        "!git clone https://github.com/mine-nandha/arXiv2020-RIFE"
      ],
      "execution_count": null,
      "outputs": []
    },
    {
      "cell_type": "code",
      "metadata": {
        "id": "1wysVHxoN54f"
      },
      "source": [
        "!gdown --id 1PT_OnHiCpydZh-zmDygZ4s5bBF1fyRpE\n",
        "!7z e RIFE_trained_model_HDv2.zip"
      ],
      "execution_count": null,
      "outputs": []
    },
    {
      "cell_type": "code",
      "metadata": {
        "id": "AhbHfRBJRAUt"
      },
      "source": [
        "!mkdir /content/arXiv2020-RIFE/train_log\n",
        "!mv *.pkl /content/arXiv2020-RIFE/train_log/\n",
        "%cd /content/arXiv2020-RIFE/\n",
        "!pip3 install -r requirements.txt"
      ],
      "execution_count": null,
      "outputs": []
    },
    {
      "cell_type": "markdown",
      "metadata": {
        "id": "rirngW5uRMdg"
      },
      "source": [
        "Please upload your video to content/arXiv2020-RIFE/video.mp4."
      ]
    },
    {
      "cell_type": "code",
      "metadata": {
        "id": "dnLn4aHHPzN3"
      },
      "source": [
        "!nvidia-smi\n",
        "!python3 inference_video.py --exp=2 --video=video.mp4"
      ],
      "execution_count": null,
      "outputs": []
    },
    {
      "cell_type": "markdown",
      "metadata": {
        "id": "77KK6lxHgJhf"
      },
      "source": [
        "Our demo.mp4 is 25FPS. You can adjust the parameters for your own perference.\n",
        "For example: \n",
        "--fps=60 --exp=1 --video=mydemo.avi --png"
      ]
    }
  ]
}
