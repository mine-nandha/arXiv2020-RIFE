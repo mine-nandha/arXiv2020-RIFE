{
  "nbformat": 4,
  "nbformat_minor": 0,
  "metadata": {
    "colab": {
      "name": "Untitled0.ipynb",
      "provenance": [],
      "include_colab_link": true
    },
    "kernelspec": {
      "name": "python3",
      "display_name": "Python 3"
    },
    "accelerator": "GPU"
  },
  "cells": [
    {
      "cell_type": "markdown",
      "metadata": {
        "id": "view-in-github",
        "colab_type": "text"
      },
      "source": [
        "<a href=\"https://colab.research.google.com/github/mine-nandha/arXiv2020-RIFE/blob/main/Colab_demo.ipynb\" target=\"_parent\"><img src=\"https://colab.research.google.com/assets/colab-badge.svg\" alt=\"Open In Colab\"/></a>"
      ]
    },
    {
      "cell_type": "code",
      "metadata": {
        "id": "FypCcZkNNt2p"
      },
      "source": [
        "!git clone https://github.com/mine-nandha/arXiv2020-RIFE"
      ],
      "execution_count": null,
      "outputs": []
    },
    {
      "cell_type": "code",
      "metadata": {
        "id": "1wysVHxoN54f"
      },
      "source": [
        "!gdown --id 1PT_OnHiCpydZh-zmDygZ4s5bBF1fyRpE\n",
        "!7z e RIFE_trained_model_HDv2.zip"
      ],
      "execution_count": null,
      "outputs": []
    },
    {
      "cell_type": "code",
      "metadata": {
        "id": "AhbHfRBJRAUt"
      },
      "source": [
        "!mkdir /content/arXiv2020-RIFE/train_log\n",
        "!mv *.pkl /content/arXiv2020-RIFE/train_log/\n",
        "%cd /content/arXiv2020-RIFE/\n",
        "!pip3 install -r requirements.txt"
      ],
      "execution_count": null,
      "outputs": []
    },
    {
      "cell_type": "markdown",
      "metadata": {
        "id": "rirngW5uRMdg"
      },
      "source": [
        "Please upload your video to content/arXiv2020-RIFE/video.mp4."
      ]
    },
    {
      "cell_type": "code",
      "metadata": {
        "id": "dnLn4aHHPzN3"
      },
      "source": [
        "!nvidia-smi\n",
        "!python3 inference_video.py --exp=1 --video=video.mp4"
      ],
      "execution_count": null,
      "outputs": []
    },
    {
      "cell_type": "markdown",
      "metadata": {
        "id": "77KK6lxHgJhf"
      },
      "source": [
        "Our demo.mp4 is 25FPS. You can adjust the parameters for your own perference.\n",
        "For example: \n",
        "--fps=60 --exp=1 --video=mydemo.avi --png"
      ]
    }
  ]
}
